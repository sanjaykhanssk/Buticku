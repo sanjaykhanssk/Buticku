{
 "cells": [
  {
   "cell_type": "code",
   "execution_count": 1,
   "metadata": {},
   "outputs": [],
   "source": [
    "%matplotlib inline"
   ]
  },
  {
   "cell_type": "code",
   "execution_count": 2,
   "metadata": {},
   "outputs": [],
   "source": [
    "import nltk\n",
    "from nltk.tokenize import word_tokenize\n",
    "import numpy as np\n",
    "import random\n",
    "import pickle\n",
    "from collections import Counter\n",
    "from nltk.stem import WordNetLemmatizer\n",
    "import torch\n",
    "import torch.nn as nn\n",
    "import torchvision\n",
    "\n",
    "lemmatizer = WordNetLemmatizer()\n",
    "hm_lines = 1000000\n",
    "\n",
    "\n",
    "def read_lexicon():\n",
    "    global lexicon \n",
    "\n",
    "    lexi = open(\"lexicon.pickle\" , 'rb')\n",
    "    lexicon = pickle.load(lexi)\n",
    "    \n",
    "    return lexicon\n",
    "device = torch.device(\"cuda\" if torch.cuda.is_available() else \"cpu\")\n"
   ]
  },
  {
   "cell_type": "code",
   "execution_count": 3,
   "metadata": {},
   "outputs": [],
   "source": [
    "ip_size , op_size = 431 ,  2\n",
    "\n",
    "class NN(nn.Module):\n",
    "    def __init__(self , ip_size , op_size):\n",
    "        super().__init__()\n",
    "        \n",
    "        self.fc1 = nn.Linear(ip_size , 1000)\n",
    "        self.fc2 = nn.Linear(1000 , 3000)\n",
    "        self.fc3 = nn.Linear(3000 , 300)\n",
    "        self.fc4 = nn.Linear(300 ,op_size)\n",
    "        self.relu = nn.ReLU()\n",
    "        \n",
    "    def forward(self , x):\n",
    "        x = self.fc1(x)\n",
    "        x = self.fc2(self.relu(x))\n",
    "        x = self.relu(self.fc3(x))\n",
    "        x = self.fc4(x)\n",
    "        \n",
    "        return x"
   ]
  },
  {
   "cell_type": "code",
   "execution_count": 4,
   "metadata": {},
   "outputs": [],
   "source": [
    "model_loaded = torch.load(\"NNmodel.pt\")"
   ]
  },
  {
   "cell_type": "code",
   "execution_count": 5,
   "metadata": {},
   "outputs": [],
   "source": [
    "def user_test(sample , lexicon):\n",
    "    \n",
    "    c_w = word_tokenize(sample.lower())\n",
    "    c_w = [lemmatizer.lemmatize(i) for i in c_w]\n",
    "    samples = np.zeros(len(lexicon))\n",
    "    for  word in c_w:\n",
    "        if word.lower() in lexicon:\n",
    "            index_value = lexicon.index(word.lower())\n",
    "            samples[index_value] += 1\n",
    "            \n",
    "    samples = list(samples)  \n",
    "    output = []\n",
    "    output.append(samples)\n",
    "    output = np.array(output)\n",
    "    return output\n",
    "\n",
    "def predict_data(data ):\n",
    "    lexicon = read_lexicon()\n",
    "    data  = user_test(data , lexicon)\n",
    "    data = torch.from_numpy(data)\n",
    "    device = torch.device(\"cuda\" if torch.cuda.is_available() else \"cpu\")\n",
    "    data = data.to(device)\n",
    "    data = data.float()\n",
    "    predict = model_loaded(data)\n",
    "#     print(predict[0])\n",
    "#     p = predict.cpu()\n",
    "#     p  = p.detach().numpy()\n",
    "#     p = str(p[0])\n",
    "#     p = p.split()\n",
    "#     p.remove(']')\n",
    "# #     p = p.\n",
    "#     print(p)\n",
    "    prediction = torch.max(predict , 1) [1]\n",
    "    result = prediction.cpu()\n",
    "    result  = result.numpy()\n",
    "#     if int(result) == 0:\n",
    "#         print(\"--------------------------\")\n",
    "#         print( \"Positive\")\n",
    "#         print(\"--------------------------\")\n",
    "#     elif int(result) == 1:\n",
    "#         print(\"--------------------------\")\n",
    "#         print(\"Negative\")\n",
    "#         print(\"--------------------------\")\n",
    "#     else:\n",
    "#         print(int(result) , \"Got this value\")\n",
    "        \n",
    "    return int(result)\n",
    "    "
   ]
  },
  {
   "cell_type": "code",
   "execution_count": 6,
   "metadata": {},
   "outputs": [],
   "source": [
    "# data = input()\n",
    "# result =  predict_data(data)\n"
   ]
  },
  {
   "cell_type": "code",
   "execution_count": null,
   "metadata": {},
   "outputs": [],
   "source": []
  },
  {
   "cell_type": "markdown",
   "metadata": {},
   "source": [
    "# Web Scrapping"
   ]
  },
  {
   "cell_type": "code",
   "execution_count": null,
   "metadata": {},
   "outputs": [],
   "source": []
  },
  {
   "cell_type": "code",
   "execution_count": 7,
   "metadata": {},
   "outputs": [],
   "source": [
    " # Get link of the review page"
   ]
  },
  {
   "cell_type": "code",
   "execution_count": 8,
   "metadata": {},
   "outputs": [
    {
     "data": {
      "text/html": [
       "\n",
       "    <div class=\"bk-root\">\n",
       "        <a href=\"https://bokeh.pydata.org\" target=\"_blank\" class=\"bk-logo bk-logo-small bk-logo-notebook\"></a>\n",
       "        <span id=\"1001\">Loading BokehJS ...</span>\n",
       "    </div>"
      ]
     },
     "metadata": {},
     "output_type": "display_data"
    },
    {
     "data": {
      "application/javascript": [
       "\n",
       "(function(root) {\n",
       "  function now() {\n",
       "    return new Date();\n",
       "  }\n",
       "\n",
       "  var force = true;\n",
       "\n",
       "  if (typeof root._bokeh_onload_callbacks === \"undefined\" || force === true) {\n",
       "    root._bokeh_onload_callbacks = [];\n",
       "    root._bokeh_is_loading = undefined;\n",
       "  }\n",
       "\n",
       "  var JS_MIME_TYPE = 'application/javascript';\n",
       "  var HTML_MIME_TYPE = 'text/html';\n",
       "  var EXEC_MIME_TYPE = 'application/vnd.bokehjs_exec.v0+json';\n",
       "  var CLASS_NAME = 'output_bokeh rendered_html';\n",
       "\n",
       "  /**\n",
       "   * Render data to the DOM node\n",
       "   */\n",
       "  function render(props, node) {\n",
       "    var script = document.createElement(\"script\");\n",
       "    node.appendChild(script);\n",
       "  }\n",
       "\n",
       "  /**\n",
       "   * Handle when an output is cleared or removed\n",
       "   */\n",
       "  function handleClearOutput(event, handle) {\n",
       "    var cell = handle.cell;\n",
       "\n",
       "    var id = cell.output_area._bokeh_element_id;\n",
       "    var server_id = cell.output_area._bokeh_server_id;\n",
       "    // Clean up Bokeh references\n",
       "    if (id != null && id in Bokeh.index) {\n",
       "      Bokeh.index[id].model.document.clear();\n",
       "      delete Bokeh.index[id];\n",
       "    }\n",
       "\n",
       "    if (server_id !== undefined) {\n",
       "      // Clean up Bokeh references\n",
       "      var cmd = \"from bokeh.io.state import curstate; print(curstate().uuid_to_server['\" + server_id + \"'].get_sessions()[0].document.roots[0]._id)\";\n",
       "      cell.notebook.kernel.execute(cmd, {\n",
       "        iopub: {\n",
       "          output: function(msg) {\n",
       "            var id = msg.content.text.trim();\n",
       "            if (id in Bokeh.index) {\n",
       "              Bokeh.index[id].model.document.clear();\n",
       "              delete Bokeh.index[id];\n",
       "            }\n",
       "          }\n",
       "        }\n",
       "      });\n",
       "      // Destroy server and session\n",
       "      var cmd = \"import bokeh.io.notebook as ion; ion.destroy_server('\" + server_id + \"')\";\n",
       "      cell.notebook.kernel.execute(cmd);\n",
       "    }\n",
       "  }\n",
       "\n",
       "  /**\n",
       "   * Handle when a new output is added\n",
       "   */\n",
       "  function handleAddOutput(event, handle) {\n",
       "    var output_area = handle.output_area;\n",
       "    var output = handle.output;\n",
       "\n",
       "    // limit handleAddOutput to display_data with EXEC_MIME_TYPE content only\n",
       "    if ((output.output_type != \"display_data\") || (!output.data.hasOwnProperty(EXEC_MIME_TYPE))) {\n",
       "      return\n",
       "    }\n",
       "\n",
       "    var toinsert = output_area.element.find(\".\" + CLASS_NAME.split(' ')[0]);\n",
       "\n",
       "    if (output.metadata[EXEC_MIME_TYPE][\"id\"] !== undefined) {\n",
       "      toinsert[toinsert.length - 1].firstChild.textContent = output.data[JS_MIME_TYPE];\n",
       "      // store reference to embed id on output_area\n",
       "      output_area._bokeh_element_id = output.metadata[EXEC_MIME_TYPE][\"id\"];\n",
       "    }\n",
       "    if (output.metadata[EXEC_MIME_TYPE][\"server_id\"] !== undefined) {\n",
       "      var bk_div = document.createElement(\"div\");\n",
       "      bk_div.innerHTML = output.data[HTML_MIME_TYPE];\n",
       "      var script_attrs = bk_div.children[0].attributes;\n",
       "      for (var i = 0; i < script_attrs.length; i++) {\n",
       "        toinsert[toinsert.length - 1].firstChild.setAttribute(script_attrs[i].name, script_attrs[i].value);\n",
       "      }\n",
       "      // store reference to server id on output_area\n",
       "      output_area._bokeh_server_id = output.metadata[EXEC_MIME_TYPE][\"server_id\"];\n",
       "    }\n",
       "  }\n",
       "\n",
       "  function register_renderer(events, OutputArea) {\n",
       "\n",
       "    function append_mime(data, metadata, element) {\n",
       "      // create a DOM node to render to\n",
       "      var toinsert = this.create_output_subarea(\n",
       "        metadata,\n",
       "        CLASS_NAME,\n",
       "        EXEC_MIME_TYPE\n",
       "      );\n",
       "      this.keyboard_manager.register_events(toinsert);\n",
       "      // Render to node\n",
       "      var props = {data: data, metadata: metadata[EXEC_MIME_TYPE]};\n",
       "      render(props, toinsert[toinsert.length - 1]);\n",
       "      element.append(toinsert);\n",
       "      return toinsert\n",
       "    }\n",
       "\n",
       "    /* Handle when an output is cleared or removed */\n",
       "    events.on('clear_output.CodeCell', handleClearOutput);\n",
       "    events.on('delete.Cell', handleClearOutput);\n",
       "\n",
       "    /* Handle when a new output is added */\n",
       "    events.on('output_added.OutputArea', handleAddOutput);\n",
       "\n",
       "    /**\n",
       "     * Register the mime type and append_mime function with output_area\n",
       "     */\n",
       "    OutputArea.prototype.register_mime_type(EXEC_MIME_TYPE, append_mime, {\n",
       "      /* Is output safe? */\n",
       "      safe: true,\n",
       "      /* Index of renderer in `output_area.display_order` */\n",
       "      index: 0\n",
       "    });\n",
       "  }\n",
       "\n",
       "  // register the mime type if in Jupyter Notebook environment and previously unregistered\n",
       "  if (root.Jupyter !== undefined) {\n",
       "    var events = require('base/js/events');\n",
       "    var OutputArea = require('notebook/js/outputarea').OutputArea;\n",
       "\n",
       "    if (OutputArea.prototype.mime_types().indexOf(EXEC_MIME_TYPE) == -1) {\n",
       "      register_renderer(events, OutputArea);\n",
       "    }\n",
       "  }\n",
       "\n",
       "  \n",
       "  if (typeof (root._bokeh_timeout) === \"undefined\" || force === true) {\n",
       "    root._bokeh_timeout = Date.now() + 5000;\n",
       "    root._bokeh_failed_load = false;\n",
       "  }\n",
       "\n",
       "  var NB_LOAD_WARNING = {'data': {'text/html':\n",
       "     \"<div style='background-color: #fdd'>\\n\"+\n",
       "     \"<p>\\n\"+\n",
       "     \"BokehJS does not appear to have successfully loaded. If loading BokehJS from CDN, this \\n\"+\n",
       "     \"may be due to a slow or bad network connection. Possible fixes:\\n\"+\n",
       "     \"</p>\\n\"+\n",
       "     \"<ul>\\n\"+\n",
       "     \"<li>re-rerun `output_notebook()` to attempt to load from CDN again, or</li>\\n\"+\n",
       "     \"<li>use INLINE resources instead, as so:</li>\\n\"+\n",
       "     \"</ul>\\n\"+\n",
       "     \"<code>\\n\"+\n",
       "     \"from bokeh.resources import INLINE\\n\"+\n",
       "     \"output_notebook(resources=INLINE)\\n\"+\n",
       "     \"</code>\\n\"+\n",
       "     \"</div>\"}};\n",
       "\n",
       "  function display_loaded() {\n",
       "    var el = document.getElementById(\"1001\");\n",
       "    if (el != null) {\n",
       "      el.textContent = \"BokehJS is loading...\";\n",
       "    }\n",
       "    if (root.Bokeh !== undefined) {\n",
       "      if (el != null) {\n",
       "        el.textContent = \"BokehJS \" + root.Bokeh.version + \" successfully loaded.\";\n",
       "      }\n",
       "    } else if (Date.now() < root._bokeh_timeout) {\n",
       "      setTimeout(display_loaded, 100)\n",
       "    }\n",
       "  }\n",
       "\n",
       "\n",
       "  function run_callbacks() {\n",
       "    try {\n",
       "      root._bokeh_onload_callbacks.forEach(function(callback) {\n",
       "        if (callback != null)\n",
       "          callback();\n",
       "      });\n",
       "    } finally {\n",
       "      delete root._bokeh_onload_callbacks\n",
       "    }\n",
       "    console.debug(\"Bokeh: all callbacks have finished\");\n",
       "  }\n",
       "\n",
       "  function load_libs(css_urls, js_urls, callback) {\n",
       "    if (css_urls == null) css_urls = [];\n",
       "    if (js_urls == null) js_urls = [];\n",
       "\n",
       "    root._bokeh_onload_callbacks.push(callback);\n",
       "    if (root._bokeh_is_loading > 0) {\n",
       "      console.debug(\"Bokeh: BokehJS is being loaded, scheduling callback at\", now());\n",
       "      return null;\n",
       "    }\n",
       "    if (js_urls == null || js_urls.length === 0) {\n",
       "      run_callbacks();\n",
       "      return null;\n",
       "    }\n",
       "    console.debug(\"Bokeh: BokehJS not loaded, scheduling load and callback at\", now());\n",
       "    root._bokeh_is_loading = css_urls.length + js_urls.length;\n",
       "\n",
       "    function on_load() {\n",
       "      root._bokeh_is_loading--;\n",
       "      if (root._bokeh_is_loading === 0) {\n",
       "        console.debug(\"Bokeh: all BokehJS libraries/stylesheets loaded\");\n",
       "        run_callbacks()\n",
       "      }\n",
       "    }\n",
       "\n",
       "    function on_error() {\n",
       "      console.error(\"failed to load \" + url);\n",
       "    }\n",
       "\n",
       "    for (var i = 0; i < css_urls.length; i++) {\n",
       "      var url = css_urls[i];\n",
       "      const element = document.createElement(\"link\");\n",
       "      element.onload = on_load;\n",
       "      element.onerror = on_error;\n",
       "      element.rel = \"stylesheet\";\n",
       "      element.type = \"text/css\";\n",
       "      element.href = url;\n",
       "      console.debug(\"Bokeh: injecting link tag for BokehJS stylesheet: \", url);\n",
       "      document.body.appendChild(element);\n",
       "    }\n",
       "\n",
       "    for (var i = 0; i < js_urls.length; i++) {\n",
       "      var url = js_urls[i];\n",
       "      var element = document.createElement('script');\n",
       "      element.onload = on_load;\n",
       "      element.onerror = on_error;\n",
       "      element.async = false;\n",
       "      element.src = url;\n",
       "      console.debug(\"Bokeh: injecting script tag for BokehJS library: \", url);\n",
       "      document.head.appendChild(element);\n",
       "    }\n",
       "  };var element = document.getElementById(\"1001\");\n",
       "  if (element == null) {\n",
       "    console.error(\"Bokeh: ERROR: autoload.js configured with elementid '1001' but no matching script tag was found. \")\n",
       "    return false;\n",
       "  }\n",
       "\n",
       "  function inject_raw_css(css) {\n",
       "    const element = document.createElement(\"style\");\n",
       "    element.appendChild(document.createTextNode(css));\n",
       "    document.body.appendChild(element);\n",
       "  }\n",
       "\n",
       "  var js_urls = [\"https://cdn.pydata.org/bokeh/release/bokeh-1.1.0.min.js\", \"https://cdn.pydata.org/bokeh/release/bokeh-widgets-1.1.0.min.js\", \"https://cdn.pydata.org/bokeh/release/bokeh-tables-1.1.0.min.js\", \"https://cdn.pydata.org/bokeh/release/bokeh-gl-1.1.0.min.js\"];\n",
       "  var css_urls = [\"https://cdn.pydata.org/bokeh/release/bokeh-1.1.0.min.css\", \"https://cdn.pydata.org/bokeh/release/bokeh-widgets-1.1.0.min.css\", \"https://cdn.pydata.org/bokeh/release/bokeh-tables-1.1.0.min.css\"];\n",
       "\n",
       "  var inline_js = [\n",
       "    function(Bokeh) {\n",
       "      Bokeh.set_log_level(\"info\");\n",
       "    },\n",
       "    \n",
       "    function(Bokeh) {\n",
       "      \n",
       "    },\n",
       "    function(Bokeh) {} // ensure no trailing comma for IE\n",
       "  ];\n",
       "\n",
       "  function run_inline_js() {\n",
       "    \n",
       "    if ((root.Bokeh !== undefined) || (force === true)) {\n",
       "      for (var i = 0; i < inline_js.length; i++) {\n",
       "        inline_js[i].call(root, root.Bokeh);\n",
       "      }if (force === true) {\n",
       "        display_loaded();\n",
       "      }} else if (Date.now() < root._bokeh_timeout) {\n",
       "      setTimeout(run_inline_js, 100);\n",
       "    } else if (!root._bokeh_failed_load) {\n",
       "      console.log(\"Bokeh: BokehJS failed to load within specified timeout.\");\n",
       "      root._bokeh_failed_load = true;\n",
       "    } else if (force !== true) {\n",
       "      var cell = $(document.getElementById(\"1001\")).parents('.cell').data().cell;\n",
       "      cell.output_area.append_execute_result(NB_LOAD_WARNING)\n",
       "    }\n",
       "\n",
       "  }\n",
       "\n",
       "  if (root._bokeh_is_loading === 0) {\n",
       "    console.debug(\"Bokeh: BokehJS loaded, going straight to plotting\");\n",
       "    run_inline_js();\n",
       "  } else {\n",
       "    load_libs(css_urls, js_urls, function() {\n",
       "      console.debug(\"Bokeh: BokehJS plotting callback run at\", now());\n",
       "      run_inline_js();\n",
       "    });\n",
       "  }\n",
       "}(window));"
      ],
      "application/vnd.bokehjs_load.v0+json": "\n(function(root) {\n  function now() {\n    return new Date();\n  }\n\n  var force = true;\n\n  if (typeof root._bokeh_onload_callbacks === \"undefined\" || force === true) {\n    root._bokeh_onload_callbacks = [];\n    root._bokeh_is_loading = undefined;\n  }\n\n  \n\n  \n  if (typeof (root._bokeh_timeout) === \"undefined\" || force === true) {\n    root._bokeh_timeout = Date.now() + 5000;\n    root._bokeh_failed_load = false;\n  }\n\n  var NB_LOAD_WARNING = {'data': {'text/html':\n     \"<div style='background-color: #fdd'>\\n\"+\n     \"<p>\\n\"+\n     \"BokehJS does not appear to have successfully loaded. If loading BokehJS from CDN, this \\n\"+\n     \"may be due to a slow or bad network connection. Possible fixes:\\n\"+\n     \"</p>\\n\"+\n     \"<ul>\\n\"+\n     \"<li>re-rerun `output_notebook()` to attempt to load from CDN again, or</li>\\n\"+\n     \"<li>use INLINE resources instead, as so:</li>\\n\"+\n     \"</ul>\\n\"+\n     \"<code>\\n\"+\n     \"from bokeh.resources import INLINE\\n\"+\n     \"output_notebook(resources=INLINE)\\n\"+\n     \"</code>\\n\"+\n     \"</div>\"}};\n\n  function display_loaded() {\n    var el = document.getElementById(\"1001\");\n    if (el != null) {\n      el.textContent = \"BokehJS is loading...\";\n    }\n    if (root.Bokeh !== undefined) {\n      if (el != null) {\n        el.textContent = \"BokehJS \" + root.Bokeh.version + \" successfully loaded.\";\n      }\n    } else if (Date.now() < root._bokeh_timeout) {\n      setTimeout(display_loaded, 100)\n    }\n  }\n\n\n  function run_callbacks() {\n    try {\n      root._bokeh_onload_callbacks.forEach(function(callback) {\n        if (callback != null)\n          callback();\n      });\n    } finally {\n      delete root._bokeh_onload_callbacks\n    }\n    console.debug(\"Bokeh: all callbacks have finished\");\n  }\n\n  function load_libs(css_urls, js_urls, callback) {\n    if (css_urls == null) css_urls = [];\n    if (js_urls == null) js_urls = [];\n\n    root._bokeh_onload_callbacks.push(callback);\n    if (root._bokeh_is_loading > 0) {\n      console.debug(\"Bokeh: BokehJS is being loaded, scheduling callback at\", now());\n      return null;\n    }\n    if (js_urls == null || js_urls.length === 0) {\n      run_callbacks();\n      return null;\n    }\n    console.debug(\"Bokeh: BokehJS not loaded, scheduling load and callback at\", now());\n    root._bokeh_is_loading = css_urls.length + js_urls.length;\n\n    function on_load() {\n      root._bokeh_is_loading--;\n      if (root._bokeh_is_loading === 0) {\n        console.debug(\"Bokeh: all BokehJS libraries/stylesheets loaded\");\n        run_callbacks()\n      }\n    }\n\n    function on_error() {\n      console.error(\"failed to load \" + url);\n    }\n\n    for (var i = 0; i < css_urls.length; i++) {\n      var url = css_urls[i];\n      const element = document.createElement(\"link\");\n      element.onload = on_load;\n      element.onerror = on_error;\n      element.rel = \"stylesheet\";\n      element.type = \"text/css\";\n      element.href = url;\n      console.debug(\"Bokeh: injecting link tag for BokehJS stylesheet: \", url);\n      document.body.appendChild(element);\n    }\n\n    for (var i = 0; i < js_urls.length; i++) {\n      var url = js_urls[i];\n      var element = document.createElement('script');\n      element.onload = on_load;\n      element.onerror = on_error;\n      element.async = false;\n      element.src = url;\n      console.debug(\"Bokeh: injecting script tag for BokehJS library: \", url);\n      document.head.appendChild(element);\n    }\n  };var element = document.getElementById(\"1001\");\n  if (element == null) {\n    console.error(\"Bokeh: ERROR: autoload.js configured with elementid '1001' but no matching script tag was found. \")\n    return false;\n  }\n\n  function inject_raw_css(css) {\n    const element = document.createElement(\"style\");\n    element.appendChild(document.createTextNode(css));\n    document.body.appendChild(element);\n  }\n\n  var js_urls = [\"https://cdn.pydata.org/bokeh/release/bokeh-1.1.0.min.js\", \"https://cdn.pydata.org/bokeh/release/bokeh-widgets-1.1.0.min.js\", \"https://cdn.pydata.org/bokeh/release/bokeh-tables-1.1.0.min.js\", \"https://cdn.pydata.org/bokeh/release/bokeh-gl-1.1.0.min.js\"];\n  var css_urls = [\"https://cdn.pydata.org/bokeh/release/bokeh-1.1.0.min.css\", \"https://cdn.pydata.org/bokeh/release/bokeh-widgets-1.1.0.min.css\", \"https://cdn.pydata.org/bokeh/release/bokeh-tables-1.1.0.min.css\"];\n\n  var inline_js = [\n    function(Bokeh) {\n      Bokeh.set_log_level(\"info\");\n    },\n    \n    function(Bokeh) {\n      \n    },\n    function(Bokeh) {} // ensure no trailing comma for IE\n  ];\n\n  function run_inline_js() {\n    \n    if ((root.Bokeh !== undefined) || (force === true)) {\n      for (var i = 0; i < inline_js.length; i++) {\n        inline_js[i].call(root, root.Bokeh);\n      }if (force === true) {\n        display_loaded();\n      }} else if (Date.now() < root._bokeh_timeout) {\n      setTimeout(run_inline_js, 100);\n    } else if (!root._bokeh_failed_load) {\n      console.log(\"Bokeh: BokehJS failed to load within specified timeout.\");\n      root._bokeh_failed_load = true;\n    } else if (force !== true) {\n      var cell = $(document.getElementById(\"1001\")).parents('.cell').data().cell;\n      cell.output_area.append_execute_result(NB_LOAD_WARNING)\n    }\n\n  }\n\n  if (root._bokeh_is_loading === 0) {\n    console.debug(\"Bokeh: BokehJS loaded, going straight to plotting\");\n    run_inline_js();\n  } else {\n    load_libs(css_urls, js_urls, function() {\n      console.debug(\"Bokeh: BokehJS plotting callback run at\", now());\n      run_inline_js();\n    });\n  }\n}(window));"
     },
     "metadata": {},
     "output_type": "display_data"
    }
   ],
   "source": [
    "import matplotlib.pyplot as plt\n",
    "import numpy as np\n",
    "from bokeh.models import ColumnDataSource ,HoverTool\n",
    "from bokeh.plotting import figure\n",
    "from bokeh.io import show  ,output_notebook\n",
    "output_notebook()\n",
    "def plot(total , pos , neg , title):\n",
    "    \n",
    "    categories = ['Positive' , 'Negative']\n",
    "    color = ['Green' , 'Red']\n",
    "    top = [pos , neg]\n",
    "    source = ColumnDataSource(data = dict(categories=categories , top=top , color = color , legend=['Positive','Negative']))\n",
    "    p = figure(x_range=categories ,plot_width=600 , plot_height=600 , title = title, tools='hover',)\n",
    "    p.vbar(x='categories' ,top= 'top'  ,width=0.5 ,color='color' ,legend='legend' , source=source, alpha=0.5)\n",
    "    hover = p.select(dict(type=HoverTool))\n",
    "    p.xaxis.axis_label = \"Categories\"\n",
    "    p.yaxis.axis_label = \"Count\"\n",
    "    p.axis.major_tick_line_color  ='green'\n",
    "    p.axis.major_label_text_color = \"blue\"\n",
    "    p.grid.grid_line_dash='solid'\n",
    "\n",
    "    p.grid.grid_line_alpha = 0.5\n",
    "    hover.tooltips = [('Bar Type','@categories') , ('No of Review','@top')]\n",
    "    show(p)"
   ]
  },
  {
   "cell_type": "code",
   "execution_count": 20,
   "metadata": {},
   "outputs": [],
   "source": [
    "# link = \n",
    "from string import punctuation\n",
    "import requests\n",
    "from bs4 import BeautifulSoup\n",
    "from wordcloud import WordCloud, STOPWORDS\n",
    "title = None\n",
    "def pl_wordcloud(ls):\n",
    "    st = 'Bukku No Commends'\n",
    "    for l in ls:\n",
    "        st +=' '\n",
    "        st+=str(l)\n",
    "    wordcloud = WordCloud(background_color='black' , \n",
    "                         stopwords = STOPWORDS ,\n",
    "                         min_font_size=10 ).generate(st)\n",
    "    \n",
    "    plt.imshow(wordcloud)\n",
    "    plt.axis('off')\n",
    "    plt.show()\n",
    "def give_review(link):\n",
    "    \n",
    "    result  = requests.get(link) \n",
    "    soup = BeautifulSoup(result.content)\n",
    "    global title\n",
    "    try :\n",
    "        title = soup.find_all('div',{'class':['col-12-12']})[4]\n",
    "        title = BeautifulSoup(str(title))\n",
    "        title= title.find('span')\n",
    "        title = title.text\n",
    "    except Exception as NoneType:\n",
    "        title = \"Some Flipkart Product\"\n",
    "    print(title)\n",
    "    \n",
    "    link_replaced = link.replace(\"/p/\" , \"/product-reviews/\")\n",
    "    # 5 review pages \n",
    "    val=8\n",
    "    links_app = []\n",
    "    for i in range(val):\n",
    "        links_app.append(f'{link_replaced}&page={i+1}')\n",
    "\n",
    "\n",
    "    data = ''\n",
    "    data_got  = ''\n",
    "    for i , link in enumerate(links_app):\n",
    "        try :        \n",
    "            result  = requests.get(link) \n",
    "            data = str(data + ' ' +str(result.content))\n",
    "            soup = BeautifulSoup(result.content)\n",
    "            mydivs = soup.find_all('div' , {\"class\" : [\"col-12-12\"]})\n",
    "            data_got = f\"{data_got} {mydivs} \"\n",
    "        except Exception as e:\n",
    "            print(f\"Error at link: {i+1} ::: {e}\")\n",
    "\n",
    "    fi = open('mydivs.html' , 'w')\n",
    "    fi.write(data)\n",
    "    fi.close()\n",
    "\n",
    "\n",
    "#     img = BeautifulSoup(img)\n",
    "    soup = BeautifulSoup(data_got)\n",
    "    \n",
    "\n",
    "    soup = BeautifulSoup(str(soup))\n",
    "    table = soup.find_all('div' ,{\"class\":\"row\"})\n",
    "\n",
    "    print(\"----------------\")\n",
    "\n",
    "    ps = list(soup.find_all('p'))\n",
    "    ps.pop(0)\n",
    "\n",
    "\n",
    "    p_review = []\n",
    "    i = 0\n",
    "    for _ in range(len(ps)):\n",
    "    #     print(\"i = \" ,i )\n",
    "        try:\n",
    "            p_review.append(ps[i])        \n",
    "        except Exception as e:\n",
    "            pass\n",
    "        i +=4\n",
    "\n",
    "\n",
    "\n",
    "    # fi = open('mydivs.html' , 'w')\n",
    "    # fi.write(str(p_review))\n",
    "    # fi.close()\n",
    "\n",
    "    soup = BeautifulSoup(str(p_review))\n",
    "    pt = []\n",
    "    for p in soup.find_all('p'):\n",
    "        pt.append(p.text)\n",
    "\n",
    "\n",
    "    for i , p in enumerate(pt):\n",
    "        if p in punctuation:\n",
    "            pt.pop(i)\n",
    "    \n",
    "#     pl_wordcloud(pt)\n",
    "    positive = negative = neutral = 0\n",
    "    total = len(pt)\n",
    "    for p in pt:\n",
    "        result = predict_data(p)\n",
    "        if result == 0:\n",
    "            positive += 1\n",
    "        elif result == 1:\n",
    "            negative +=1\n",
    "        else:\n",
    "            neutral +=1\n",
    "    \n",
    "    print(f\"Total Review Analaysed = {len(pt)} \\n Positive Review = {positive} \\n Negative Review = {negative}\")\n",
    "    plot(total = total , pos = positive ,neg= negative , title = title)\n",
    "    \n",
    "    qases(pt)\n",
    "    \n"
   ]
  },
  {
   "cell_type": "code",
   "execution_count": 25,
   "metadata": {
    "scrolled": false
   },
   "outputs": [
    {
     "name": "stdout",
     "output_type": "stream",
     "text": [
      "Processing..\n",
      "Asus ZenFone Max Pro M2 (Blue, 32 GB)  (3 GB RAM)\n",
      "----------------\n",
      "Total Review Analaysed = 160 \n",
      " Positive Review = 126 \n",
      " Negative Review = 34\n"
     ]
    },
    {
     "data": {
      "text/html": [
       "\n",
       "\n",
       "\n",
       "\n",
       "\n",
       "\n",
       "  <div class=\"bk-root\" id=\"b49d3a0c-19ad-4b53-ac01-0c08fac82521\" data-root-id=\"1794\"></div>\n"
      ]
     },
     "metadata": {},
     "output_type": "display_data"
    },
    {
     "data": {
      "application/javascript": [
       "(function(root) {\n",
       "  function embed_document(root) {\n",
       "    \n",
       "  var docs_json = {\"58bd13db-687e-48da-8284-d2f786999b92\":{\"roots\":{\"references\":[{\"attributes\":{\"below\":[{\"id\":\"1805\",\"type\":\"CategoricalAxis\"}],\"center\":[{\"id\":\"1808\",\"type\":\"Grid\"},{\"id\":\"1813\",\"type\":\"Grid\"},{\"id\":\"1827\",\"type\":\"Legend\"}],\"left\":[{\"id\":\"1809\",\"type\":\"LinearAxis\"}],\"renderers\":[{\"id\":\"1820\",\"type\":\"GlyphRenderer\"}],\"title\":{\"id\":\"1795\",\"type\":\"Title\"},\"toolbar\":{\"id\":\"1815\",\"type\":\"Toolbar\"},\"x_range\":{\"id\":\"1797\",\"type\":\"FactorRange\"},\"x_scale\":{\"id\":\"1801\",\"type\":\"CategoricalScale\"},\"y_range\":{\"id\":\"1799\",\"type\":\"DataRange1d\"},\"y_scale\":{\"id\":\"1803\",\"type\":\"LinearScale\"}},\"id\":\"1794\",\"subtype\":\"Figure\",\"type\":\"Plot\"},{\"attributes\":{\"fill_alpha\":{\"value\":0.5},\"fill_color\":{\"field\":\"color\"},\"line_alpha\":{\"value\":0.5},\"line_color\":{\"field\":\"color\"},\"top\":{\"field\":\"top\"},\"width\":{\"value\":0.5},\"x\":{\"field\":\"categories\"}},\"id\":\"1818\",\"type\":\"VBar\"},{\"attributes\":{\"label\":{\"field\":\"legend\"},\"renderers\":[{\"id\":\"1820\",\"type\":\"GlyphRenderer\"}]},\"id\":\"1828\",\"type\":\"LegendItem\"},{\"attributes\":{\"source\":{\"id\":\"1793\",\"type\":\"ColumnDataSource\"}},\"id\":\"1821\",\"type\":\"CDSView\"},{\"attributes\":{\"fill_alpha\":{\"value\":0.1},\"fill_color\":{\"value\":\"#1f77b4\"},\"line_alpha\":{\"value\":0.1},\"line_color\":{\"value\":\"#1f77b4\"},\"top\":{\"field\":\"top\"},\"width\":{\"value\":0.5},\"x\":{\"field\":\"categories\"}},\"id\":\"1819\",\"type\":\"VBar\"},{\"attributes\":{},\"id\":\"1825\",\"type\":\"CategoricalTickFormatter\"},{\"attributes\":{},\"id\":\"1823\",\"type\":\"BasicTickFormatter\"},{\"attributes\":{\"callback\":null,\"data\":{\"categories\":[\"Positive\",\"Negative\"],\"color\":[\"Green\",\"Red\"],\"legend\":[\"Positive\",\"Negative\"],\"top\":[126,34]},\"selected\":{\"id\":\"1834\",\"type\":\"Selection\"},\"selection_policy\":{\"id\":\"1835\",\"type\":\"UnionRenderers\"}},\"id\":\"1793\",\"type\":\"ColumnDataSource\"},{\"attributes\":{},\"id\":\"1806\",\"type\":\"CategoricalTicker\"},{\"attributes\":{},\"id\":\"1834\",\"type\":\"Selection\"},{\"attributes\":{\"callback\":null},\"id\":\"1799\",\"type\":\"DataRange1d\"},{\"attributes\":{},\"id\":\"1801\",\"type\":\"CategoricalScale\"},{\"attributes\":{},\"id\":\"1835\",\"type\":\"UnionRenderers\"},{\"attributes\":{},\"id\":\"1803\",\"type\":\"LinearScale\"},{\"attributes\":{\"dimension\":1,\"grid_line_alpha\":{\"value\":0.5},\"ticker\":{\"id\":\"1810\",\"type\":\"BasicTicker\"}},\"id\":\"1813\",\"type\":\"Grid\"},{\"attributes\":{\"axis_label\":\"Categories\",\"formatter\":{\"id\":\"1825\",\"type\":\"CategoricalTickFormatter\"},\"major_label_text_color\":{\"value\":\"blue\"},\"major_tick_line_color\":{\"value\":\"green\"},\"ticker\":{\"id\":\"1806\",\"type\":\"CategoricalTicker\"}},\"id\":\"1805\",\"type\":\"CategoricalAxis\"},{\"attributes\":{\"axis_label\":\"Count\",\"formatter\":{\"id\":\"1823\",\"type\":\"BasicTickFormatter\"},\"major_label_text_color\":{\"value\":\"blue\"},\"major_tick_line_color\":{\"value\":\"green\"},\"ticker\":{\"id\":\"1810\",\"type\":\"BasicTicker\"}},\"id\":\"1809\",\"type\":\"LinearAxis\"},{\"attributes\":{\"grid_line_alpha\":{\"value\":0.5},\"ticker\":{\"id\":\"1806\",\"type\":\"CategoricalTicker\"}},\"id\":\"1808\",\"type\":\"Grid\"},{\"attributes\":{\"callback\":null,\"factors\":[\"Positive\",\"Negative\"]},\"id\":\"1797\",\"type\":\"FactorRange\"},{\"attributes\":{},\"id\":\"1810\",\"type\":\"BasicTicker\"},{\"attributes\":{\"text\":\"Asus ZenFone Max Pro M2 (Blue, 32 GB)\\u00a0\\u00a0(3 GB RAM)\"},\"id\":\"1795\",\"type\":\"Title\"},{\"attributes\":{\"active_drag\":\"auto\",\"active_inspect\":\"auto\",\"active_multi\":null,\"active_scroll\":\"auto\",\"active_tap\":\"auto\",\"tools\":[{\"id\":\"1814\",\"type\":\"HoverTool\"}]},\"id\":\"1815\",\"type\":\"Toolbar\"},{\"attributes\":{\"callback\":null,\"tooltips\":[[\"Bar Type\",\"@categories\"],[\"No of Review\",\"@top\"]]},\"id\":\"1814\",\"type\":\"HoverTool\"},{\"attributes\":{\"items\":[{\"id\":\"1828\",\"type\":\"LegendItem\"}]},\"id\":\"1827\",\"type\":\"Legend\"},{\"attributes\":{\"data_source\":{\"id\":\"1793\",\"type\":\"ColumnDataSource\"},\"glyph\":{\"id\":\"1818\",\"type\":\"VBar\"},\"hover_glyph\":null,\"muted_glyph\":null,\"nonselection_glyph\":{\"id\":\"1819\",\"type\":\"VBar\"},\"selection_glyph\":null,\"view\":{\"id\":\"1821\",\"type\":\"CDSView\"}},\"id\":\"1820\",\"type\":\"GlyphRenderer\"}],\"root_ids\":[\"1794\"]},\"title\":\"Bokeh Application\",\"version\":\"1.1.0\"}};\n",
       "  var render_items = [{\"docid\":\"58bd13db-687e-48da-8284-d2f786999b92\",\"roots\":{\"1794\":\"b49d3a0c-19ad-4b53-ac01-0c08fac82521\"}}];\n",
       "  root.Bokeh.embed.embed_items_notebook(docs_json, render_items);\n",
       "\n",
       "  }\n",
       "  if (root.Bokeh !== undefined) {\n",
       "    embed_document(root);\n",
       "  } else {\n",
       "    var attempts = 0;\n",
       "    var timer = setInterval(function(root) {\n",
       "      if (root.Bokeh !== undefined) {\n",
       "        embed_document(root);\n",
       "        clearInterval(timer);\n",
       "      }\n",
       "      attempts++;\n",
       "      if (attempts > 100) {\n",
       "        console.log(\"Bokeh: ERROR: Unable to run BokehJS code because BokehJS library is missing\");\n",
       "        clearInterval(timer);\n",
       "      }\n",
       "    }, 10, root)\n",
       "  }\n",
       "})(window);"
      ],
      "application/vnd.bokehjs_exec.v0+json": ""
     },
     "metadata": {
      "application/vnd.bokehjs_exec.v0+json": {
       "id": "1794"
      }
     },
     "output_type": "display_data"
    },
    {
     "data": {
      "text/html": [
       "<h1>Buticku The AI</h1>\n",
       "             <h3>Flipkart Assistant</h3>\n",
       "             <br>\n",
       "             <br>\n",
       "             <h4> Ask Your Questions  , If No Questions type exit and enter</h4>\n",
       "            "
      ],
      "text/plain": [
       "<IPython.core.display.HTML object>"
      ]
     },
     "metadata": {},
     "output_type": "display_data"
    },
    {
     "name": "stdin",
     "output_type": "stream",
     "text": [
      "Ask Your Question? is this worthy product?\n"
     ]
    },
    {
     "data": {
      "text/html": [
       "<h1 style=\"color:rgba(100,10,50,70)\">Question :is this worthy product?</h1>  <h2 style=\"color:rgba(10,50,100.60)\"><i>Answer:Terrific Great product Perfect product! Great product Just wow! Fair Best</i></h2>"
      ],
      "text/plain": [
       "<IPython.core.display.HTML object>"
      ]
     },
     "metadata": {},
     "output_type": "display_data"
    },
    {
     "name": "stdin",
     "output_type": "stream",
     "text": [
      "Ask Your Question? tell me more about camera?\n"
     ]
    },
    {
     "data": {
      "text/html": [
       "<h1 style=\"color:rgba(100,10,50,70)\">Question :tell me more about camera?</h1>  <h2 style=\"color:rgba(10,50,100.60)\"><i>Answer: Simply awesome Perfect product</i></h2>"
      ],
      "text/plain": [
       "<IPython.core.display.HTML object>"
      ]
     },
     "metadata": {},
     "output_type": "display_data"
    },
    {
     "name": "stdin",
     "output_type": "stream",
     "text": [
      "Ask Your Question? what about camera\n"
     ]
    },
    {
     "data": {
      "text/html": [
       "<h1 style=\"color:rgba(100,10,50,70)\">Question :what about camera</h1>  <h2 style=\"color:rgba(10,50,100.60)\"><i>Answer:!</i></h2>"
      ],
      "text/plain": [
       "<IPython.core.display.HTML object>"
      ]
     },
     "metadata": {},
     "output_type": "display_data"
    },
    {
     "name": "stdin",
     "output_type": "stream",
     "text": [
      "Ask Your Question? thank you\n"
     ]
    },
    {
     "data": {
      "text/html": [
       "<h1 style=\"color:rgba(100,10,50,70)\">Question :thank you</h1>  <h2 style=\"color:rgba(10,50,100.60)\"><i>Answer:Must buy! Mind-blowing purchase Worth the money Pretty good Just wow!</i></h2>"
      ],
      "text/plain": [
       "<IPython.core.display.HTML object>"
      ]
     },
     "metadata": {},
     "output_type": "display_data"
    },
    {
     "name": "stdin",
     "output_type": "stream",
     "text": [
      "Ask Your Question? exit\n"
     ]
    },
    {
     "name": "stdout",
     "output_type": "stream",
     "text": [
      "Total Time Taken: 901 Seconds\n"
     ]
    }
   ],
   "source": [
    "import validators\n",
    "\n",
    "from ipywidgets import interact, widgets\n",
    "from IPython.core.display import display, HTML\n",
    "\n",
    "from IPython.display import display\n",
    "from IPython.display import clear_output\n",
    "\n",
    "from IPython.display import HTML, display\n",
    "\n",
    "display(HTML(\"\"\"<h1>Buticku The AI</h1>\n",
    "             <h3>A Combination of <i>Bukku</i> and <i>Tikku</i></h3>\n",
    "             <h3>Flipkart Assistant</h3>\n",
    "             <br>\n",
    "             <br>\n",
    "             <h4> Paste the product link you want to get review</h4>\n",
    "            \"\"\" ))\n",
    "\n",
    "def qases(commands):\n",
    "    coms = str('')\n",
    "    for i in commands:\n",
    "        coms = coms +\" \"+i\n",
    "    \n",
    "    from firebase import firebase\n",
    "    firebaseref = firebase.FirebaseApplication('https://buticku16.firebaseio.com/')\n",
    "    display(HTML(\"\"\"<h1>Buticku The AI</h1>\n",
    "             <h3>Flipkart Assistant</h3>\n",
    "             <br>\n",
    "             <br>\n",
    "             <h4> Ask Your Questions  , If No Questions type exit and enter</h4>\n",
    "            \"\"\" ))\n",
    "    exit = False\n",
    "    while not exit:\n",
    "        question = str(input(\"Ask Your Question?\")).lower()\n",
    "        if question == 'exit':\n",
    "            exit = True\n",
    "        else:\n",
    "            exit_text = 'empty_and_exit_now'\n",
    "            firebaseref.put('/','answer',exit_text)\n",
    "            firebaseref.put('/','text',coms)\n",
    "            firebaseref.put('/','question',question)\n",
    "            \n",
    "            while 1:\n",
    "                answer = firebaseref.get('/answer',None)\n",
    "                if answer != exit_text and len(answer) >=1:\n",
    "                    display(HTML(f\"\"\"<h1 style=\"color:rgba(100,10,50,70)\">Question :{question}</h1>  <h2 style=\"color:rgba(10,50,100.60)\"><i>Answer:{answer}</i></h2>\"\"\"))\n",
    "\n",
    "                    firebaseref.put('/','answer',exit_text)\n",
    "                    break\n",
    "            \n",
    "\n",
    "def validate(link):\n",
    "    if not validators.url(link):\n",
    "        print(\"Link Not valid\")\n",
    "    else:\n",
    "        start = time.time()\n",
    "        print(\"Processing..\")\n",
    "        give_review(link)\n",
    "        end = time.time()\n",
    "        print(f\"Total Time Taken: {int(end -start)} Seconds\")\n",
    "        \n",
    "#         display(HTML(img))\n",
    "\n",
    "        \n",
    "\n",
    "\n",
    "import time\n",
    "\n",
    "def on_button_clicked(b):    \n",
    "\n",
    "    clear_output()\n",
    "#     val = box.value\n",
    "    val = b\n",
    "\n",
    "    validate(val)\n",
    "\n",
    "# box = widgets.Text(description=\"paste link here\")\n",
    "# display(box)\n",
    "\n",
    "# button = widgets.Button(description=\"Ask Bukku!\")\n",
    "# display(button)\n",
    "# button.on_click(on_button_clicked)\n",
    "\n",
    "on_button_clicked(input(\"Paste the Link of Product\"))\n",
    "\n",
    "        \n"
   ]
  },
  {
   "cell_type": "code",
   "execution_count": null,
   "metadata": {},
   "outputs": [],
   "source": []
  },
  {
   "cell_type": "code",
   "execution_count": null,
   "metadata": {},
   "outputs": [],
   "source": []
  },
  {
   "cell_type": "code",
   "execution_count": 11,
   "metadata": {},
   "outputs": [
    {
     "data": {
      "text/html": [
       "<h1>Buticku The AI</h1>\n",
       "         <h3>A Combination of <i>Bukku</i> and <i>Tikku</i></h3>\n",
       "         <br>\n",
       "         <br>\n",
       "         <h4> Ask Your Questions  , If No Questions type exit and enter</h4>\n",
       "        "
      ],
      "text/plain": [
       "<IPython.core.display.HTML object>"
      ]
     },
     "metadata": {},
     "output_type": "display_data"
    }
   ],
   "source": [
    "    display(HTML(\"\"\"<h1>Buticku The AI</h1>\n",
    "             <h3>A Combination of <i>Bukku</i> and <i>Tikku</i></h3>\n",
    "             <br>\n",
    "             <br>\n",
    "             <h4> Ask Your Questions  , If No Questions type exit and enter</h4>\n",
    "            \"\"\" ))"
   ]
  },
  {
   "cell_type": "code",
   "execution_count": null,
   "metadata": {},
   "outputs": [],
   "source": []
  },
  {
   "cell_type": "code",
   "execution_count": 65,
   "metadata": {},
   "outputs": [],
   "source": []
  },
  {
   "cell_type": "code",
   "execution_count": null,
   "metadata": {},
   "outputs": [],
   "source": []
  },
  {
   "cell_type": "code",
   "execution_count": null,
   "metadata": {},
   "outputs": [],
   "source": []
  },
  {
   "cell_type": "markdown",
   "metadata": {},
   "source": []
  },
  {
   "cell_type": "code",
   "execution_count": null,
   "metadata": {},
   "outputs": [],
   "source": []
  },
  {
   "cell_type": "code",
   "execution_count": null,
   "metadata": {},
   "outputs": [],
   "source": []
  },
  {
   "cell_type": "markdown",
   "metadata": {},
   "source": [
    "# Testing Area"
   ]
  },
  {
   "cell_type": "code",
   "execution_count": 63,
   "metadata": {},
   "outputs": [
    {
     "data": {
      "text/html": [
       "\n",
       "\n",
       "\n",
       "\n",
       "\n",
       "\n",
       "  <div class=\"bk-root\" id=\"7712305b-3d82-4056-bb61-d4967a834766\" data-root-id=\"5193\"></div>\n"
      ]
     },
     "metadata": {},
     "output_type": "display_data"
    },
    {
     "data": {
      "application/javascript": [
       "(function(root) {\n",
       "  function embed_document(root) {\n",
       "    \n",
       "  var docs_json = {\"c06ad332-1d65-4622-ba4c-724a8e50e74d\":{\"roots\":{\"references\":[{\"attributes\":{\"below\":[{\"id\":\"5204\",\"type\":\"CategoricalAxis\"}],\"center\":[{\"id\":\"5207\",\"type\":\"Grid\"},{\"id\":\"5212\",\"type\":\"Grid\"},{\"id\":\"5226\",\"type\":\"Legend\"}],\"left\":[{\"id\":\"5208\",\"type\":\"LinearAxis\"}],\"renderers\":[{\"id\":\"5219\",\"type\":\"GlyphRenderer\"}],\"title\":{\"id\":\"5194\",\"type\":\"Title\"},\"toolbar\":{\"id\":\"5214\",\"type\":\"Toolbar\"},\"x_range\":{\"id\":\"5196\",\"type\":\"FactorRange\"},\"x_scale\":{\"id\":\"5200\",\"type\":\"CategoricalScale\"},\"y_range\":{\"id\":\"5198\",\"type\":\"DataRange1d\"},\"y_scale\":{\"id\":\"5202\",\"type\":\"LinearScale\"}},\"id\":\"5193\",\"subtype\":\"Figure\",\"type\":\"Plot\"},{\"attributes\":{\"axis_label\":\"Count\",\"formatter\":{\"id\":\"5224\",\"type\":\"BasicTickFormatter\"},\"major_label_text_color\":{\"value\":\"blue\"},\"major_tick_line_color\":{\"value\":\"green\"},\"ticker\":{\"id\":\"5209\",\"type\":\"BasicTicker\"}},\"id\":\"5208\",\"type\":\"LinearAxis\"},{\"attributes\":{},\"id\":\"5205\",\"type\":\"CategoricalTicker\"},{\"attributes\":{},\"id\":\"5200\",\"type\":\"CategoricalScale\"},{\"attributes\":{},\"id\":\"5209\",\"type\":\"BasicTicker\"},{\"attributes\":{\"data_source\":{\"id\":\"5192\",\"type\":\"ColumnDataSource\"},\"glyph\":{\"id\":\"5217\",\"type\":\"VBar\"},\"hover_glyph\":null,\"muted_glyph\":null,\"nonselection_glyph\":{\"id\":\"5218\",\"type\":\"VBar\"},\"selection_glyph\":null,\"view\":{\"id\":\"5220\",\"type\":\"CDSView\"}},\"id\":\"5219\",\"type\":\"GlyphRenderer\"},{\"attributes\":{},\"id\":\"5202\",\"type\":\"LinearScale\"},{\"attributes\":{\"axis_label\":\"Categories\",\"formatter\":{\"id\":\"5222\",\"type\":\"CategoricalTickFormatter\"},\"major_label_text_color\":{\"value\":\"blue\"},\"major_tick_line_color\":{\"value\":\"green\"},\"ticker\":{\"id\":\"5205\",\"type\":\"CategoricalTicker\"}},\"id\":\"5204\",\"type\":\"CategoricalAxis\"},{\"attributes\":{\"grid_line_alpha\":{\"value\":0.5},\"ticker\":{\"id\":\"5205\",\"type\":\"CategoricalTicker\"}},\"id\":\"5207\",\"type\":\"Grid\"},{\"attributes\":{\"dimension\":1,\"grid_line_alpha\":{\"value\":0.5},\"ticker\":{\"id\":\"5209\",\"type\":\"BasicTicker\"}},\"id\":\"5212\",\"type\":\"Grid\"},{\"attributes\":{\"callback\":null},\"id\":\"5198\",\"type\":\"DataRange1d\"},{\"attributes\":{\"active_drag\":\"auto\",\"active_inspect\":\"auto\",\"active_multi\":null,\"active_scroll\":\"auto\",\"active_tap\":\"auto\",\"tools\":[{\"id\":\"5213\",\"type\":\"HoverTool\"}]},\"id\":\"5214\",\"type\":\"Toolbar\"},{\"attributes\":{\"callback\":null,\"tooltips\":[[\"Bar Type\",\"@categories\"],[\"No of Review\",\"@top\"]]},\"id\":\"5213\",\"type\":\"HoverTool\"},{\"attributes\":{\"callback\":null,\"factors\":[\"Positive\",\"Negative\"]},\"id\":\"5196\",\"type\":\"FactorRange\"},{\"attributes\":{\"fill_alpha\":{\"value\":0.5},\"fill_color\":{\"field\":\"color\"},\"line_alpha\":{\"value\":0.5},\"line_color\":{\"field\":\"color\"},\"top\":{\"field\":\"top\"},\"width\":{\"value\":0.5},\"x\":{\"field\":\"categories\"}},\"id\":\"5217\",\"type\":\"VBar\"},{\"attributes\":{\"text\":\"No cost EMI \\u20b94,834/month. Standard EMI also availableView Plans\"},\"id\":\"5194\",\"type\":\"Title\"},{\"attributes\":{\"label\":{\"field\":\"legend\"},\"renderers\":[{\"id\":\"5219\",\"type\":\"GlyphRenderer\"}]},\"id\":\"5227\",\"type\":\"LegendItem\"},{\"attributes\":{},\"id\":\"5233\",\"type\":\"Selection\"},{\"attributes\":{\"fill_alpha\":{\"value\":0.1},\"fill_color\":{\"value\":\"#1f77b4\"},\"line_alpha\":{\"value\":0.1},\"line_color\":{\"value\":\"#1f77b4\"},\"top\":{\"field\":\"top\"},\"width\":{\"value\":0.5},\"x\":{\"field\":\"categories\"}},\"id\":\"5218\",\"type\":\"VBar\"},{\"attributes\":{\"callback\":null,\"data\":{\"categories\":[\"Positive\",\"Negative\"],\"color\":[\"Green\",\"Red\"],\"legend\":[\"Positive\",\"Negative\"],\"top\":[50,70]},\"selected\":{\"id\":\"5233\",\"type\":\"Selection\"},\"selection_policy\":{\"id\":\"5234\",\"type\":\"UnionRenderers\"}},\"id\":\"5192\",\"type\":\"ColumnDataSource\"},{\"attributes\":{\"source\":{\"id\":\"5192\",\"type\":\"ColumnDataSource\"}},\"id\":\"5220\",\"type\":\"CDSView\"},{\"attributes\":{},\"id\":\"5234\",\"type\":\"UnionRenderers\"},{\"attributes\":{},\"id\":\"5222\",\"type\":\"CategoricalTickFormatter\"},{\"attributes\":{\"items\":[{\"id\":\"5227\",\"type\":\"LegendItem\"}]},\"id\":\"5226\",\"type\":\"Legend\"},{\"attributes\":{},\"id\":\"5224\",\"type\":\"BasicTickFormatter\"}],\"root_ids\":[\"5193\"]},\"title\":\"Bokeh Application\",\"version\":\"1.1.0\"}};\n",
       "  var render_items = [{\"docid\":\"c06ad332-1d65-4622-ba4c-724a8e50e74d\",\"roots\":{\"5193\":\"7712305b-3d82-4056-bb61-d4967a834766\"}}];\n",
       "  root.Bokeh.embed.embed_items_notebook(docs_json, render_items);\n",
       "\n",
       "  }\n",
       "  if (root.Bokeh !== undefined) {\n",
       "    embed_document(root);\n",
       "  } else {\n",
       "    var attempts = 0;\n",
       "    var timer = setInterval(function(root) {\n",
       "      if (root.Bokeh !== undefined) {\n",
       "        embed_document(root);\n",
       "        clearInterval(timer);\n",
       "      }\n",
       "      attempts++;\n",
       "      if (attempts > 100) {\n",
       "        console.log(\"Bokeh: ERROR: Unable to run BokehJS code because BokehJS library is missing\");\n",
       "        clearInterval(timer);\n",
       "      }\n",
       "    }, 10, root)\n",
       "  }\n",
       "})(window);"
      ],
      "application/vnd.bokehjs_exec.v0+json": ""
     },
     "metadata": {
      "application/vnd.bokehjs_exec.v0+json": {
       "id": "5193"
      }
     },
     "output_type": "display_data"
    }
   ],
   "source": [
    "# categories = ['Positive' , 'Negative']\n",
    "# color = ['Green' , 'Red']\n",
    "# top = [50 , 70]\n",
    "# source = ColumnDataSource(data = dict(categories=categories , top=top , color = color , legend=['Positive','Negative']))\n",
    "# p = figure(x_range=categories ,plot_width=600 , plot_height=600 , title = title, tools='hover',)\n",
    "# p.vbar(x='categories' ,top= 'top'  ,width=0.5 ,color='color' ,legend='legend' , source=source, alpha=0.5)\n",
    "# hover = p.select(dict(type=HoverTool))\n",
    "# p.xaxis.axis_label = \"Categories\"\n",
    "# p.yaxis.axis_label = \"Count\"\n",
    "# p.axis.major_tick_line_color  ='green'\n",
    "# p.axis.major_label_text_color = \"blue\"\n",
    "# p.grid.grid_line_dash='solid'\n",
    "\n",
    "# p.grid.grid_line_alpha = 0.5\n",
    "# hover.tooltips = [('Bar Type','@categories') , ('No of Review','@top')]\n",
    "# show(p)"
   ]
  },
  {
   "cell_type": "code",
   "execution_count": 19,
   "metadata": {},
   "outputs": [],
   "source": [
    "# def check_review(link):\n",
    "    \n",
    "#     result  = requests.get(link) \n",
    "#     soup = BeautifulSoup(result.content)\n",
    "#     global title\n",
    "#     try :\n",
    "#         title = soup.find_all('div',{'class':['col-12-12']})[4]\n",
    "#         print(title)\n",
    "#         title = BeautifulSoup(str(title))\n",
    "#         title= title.find('span')\n",
    "#         title = title.text\n",
    "#     except Exception as NoneType:\n",
    "#         title = \"Some Flipkart Product\"\n",
    "#     print(title)\n",
    "    \n",
    "# check_review('https://www.flipkart.com/asus-zenfone-max-pro-m2-blue-32-gb/p/itmfb22gjfzty4am?pid=MOBFB22GBSBNYM9Y&srno=s_1_2&otracker=search&otracker1=search&lid=LSTMOBFB22GBSBNYM9YM5ZCNR&fm=SEARCH&iid=adb57bbd-6a3c-46d1-b49e-9306515d773e.MOBFB22GBSBNYM9Y.SEARCH&ppt=SearchPage&ppn=Search&ssid=eqmu9eovbnbwndhc1559299048524&qH=cd47795a46574b9b')"
   ]
  },
  {
   "cell_type": "code",
   "execution_count": null,
   "metadata": {},
   "outputs": [],
   "source": []
  },
  {
   "cell_type": "code",
   "execution_count": null,
   "metadata": {},
   "outputs": [],
   "source": [
    "# def callui():\n",
    "    \n",
    "# def noui():\n",
    "#     v=input(\"Enter Link Here in Jupyter lab\")\n",
    "#     start = time.time()  \n",
    "#     validate(v)\n",
    "#     end = time.time()\n",
    "#     print(f\"Total Time Taken: {int(end -start)} Seconds\")\n",
    "    \n",
    "# def labornote(v):\n",
    "#     if v ==0:\n",
    "#         callui()\n",
    "#     else:\n",
    "#         noui()\n",
    "        \n",
    "# labornote(input(\"Enter '0' if you'r not in jupyter lab\"))\n"
   ]
  },
  {
   "cell_type": "code",
   "execution_count": null,
   "metadata": {},
   "outputs": [],
   "source": []
  },
  {
   "cell_type": "code",
   "execution_count": null,
   "metadata": {},
   "outputs": [],
   "source": []
  },
  {
   "cell_type": "code",
   "execution_count": null,
   "metadata": {},
   "outputs": [],
   "source": []
  }
 ],
 "metadata": {
  "kernelspec": {
   "display_name": "Python 3",
   "language": "python",
   "name": "python3"
  },
  "language_info": {
   "codemirror_mode": {
    "name": "ipython",
    "version": 3
   },
   "file_extension": ".py",
   "mimetype": "text/x-python",
   "name": "python",
   "nbconvert_exporter": "python",
   "pygments_lexer": "ipython3",
   "version": "3.6.8rc1"
  }
 },
 "nbformat": 4,
 "nbformat_minor": 2
}
