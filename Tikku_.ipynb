{
  "nbformat": 4,
  "nbformat_minor": 0,
  "metadata": {
    "colab": {
      "name": "Tikku .ipynb",
      "version": "0.3.2",
      "provenance": [],
      "collapsed_sections": [],
      "include_colab_link": true
    },
    "kernelspec": {
      "name": "python3",
      "display_name": "Python 3"
    },
    "accelerator": "GPU"
  },
  "cells": [
    {
      "cell_type": "markdown",
      "metadata": {
        "id": "view-in-github",
        "colab_type": "text"
      },
      "source": [
        "<a href=\"https://colab.research.google.com/github/sanjaykhanssk/buticku/blob/master/Tikku_.ipynb\" target=\"_parent\"><img src=\"https://colab.research.google.com/assets/colab-badge.svg\" alt=\"Open In Colab\"/></a>"
      ]
    },
    {
      "cell_type": "markdown",
      "metadata": {
        "id": "uzrIgDPos1-L",
        "colab_type": "text"
      },
      "source": [
        "# USE /ENABLE   GPU   IN COLAB"
      ]
    },
    {
      "cell_type": "code",
      "metadata": {
        "id": "kIapketspJZT",
        "colab_type": "code",
        "outputId": "2eb70418-9adf-449c-c37f-acbf6ce1b41d",
        "colab": {
          "base_uri": "https://localhost:8080/",
          "height": 129
        }
      },
      "source": [
        "\n",
        "from google.colab import drive\n",
        "drive.mount('/content/drive')"
      ],
      "execution_count": 0,
      "outputs": [
        {
          "output_type": "stream",
          "text": [
            "Go to this URL in a browser: https://accounts.google.com/o/oauth2/auth?client_id=947318989803-6bn6qk8qdgf4n4g3pfee6491hc0brc4i.apps.googleusercontent.com&redirect_uri=urn%3Aietf%3Awg%3Aoauth%3A2.0%3Aoob&scope=email%20https%3A%2F%2Fwww.googleapis.com%2Fauth%2Fdocs.test%20https%3A%2F%2Fwww.googleapis.com%2Fauth%2Fdrive%20https%3A%2F%2Fwww.googleapis.com%2Fauth%2Fdrive.photos.readonly%20https%3A%2F%2Fwww.googleapis.com%2Fauth%2Fpeopleapi.readonly&response_type=code\n",
            "\n",
            "Enter your authorization code:\n",
            "··········\n",
            "Mounted at /content/drive\n"
          ],
          "name": "stdout"
        }
      ]
    },
    {
      "cell_type": "code",
      "metadata": {
        "id": "RKE1cweBpSJZ",
        "colab_type": "code",
        "colab": {}
      },
      "source": [
        "!cp 'drive/My Drive/projects/DrQA/DrQAtrained.zip' 'drqa.zip'"
      ],
      "execution_count": 0,
      "outputs": []
    },
    {
      "cell_type": "code",
      "metadata": {
        "id": "IQ3IaXZ-qT7G",
        "colab_type": "code",
        "colab": {}
      },
      "source": [
        ""
      ],
      "execution_count": 0,
      "outputs": []
    },
    {
      "cell_type": "code",
      "metadata": {
        "id": "0igZXoC-pucI",
        "colab_type": "code",
        "colab": {}
      },
      "source": [
        "!unzip drqa.zip"
      ],
      "execution_count": 0,
      "outputs": []
    },
    {
      "cell_type": "code",
      "metadata": {
        "id": "X9Me5FD4qOym",
        "colab_type": "code",
        "outputId": "ad8410fa-6336-4ddc-9d11-1058ed442470",
        "colab": {
          "base_uri": "https://localhost:8080/",
          "height": 35
        }
      },
      "source": [
        "%cd DrQA"
      ],
      "execution_count": 0,
      "outputs": [
        {
          "output_type": "stream",
          "text": [
            "/content/DrQA\n"
          ],
          "name": "stdout"
        }
      ]
    },
    {
      "cell_type": "code",
      "metadata": {
        "id": "97T7_9dIqpOU",
        "colab_type": "code",
        "colab": {}
      },
      "source": [
        "!pip install -r requirements.txt"
      ],
      "execution_count": 0,
      "outputs": []
    },
    {
      "cell_type": "code",
      "metadata": {
        "id": "ZEQ_WlzBsaZg",
        "colab_type": "code",
        "colab": {}
      },
      "source": [
        "!python3 -m spacy download en\n"
      ],
      "execution_count": 0,
      "outputs": []
    },
    {
      "cell_type": "code",
      "metadata": {
        "id": "wpymPrnvH26S",
        "colab_type": "code",
        "colab": {}
      },
      "source": [
        "!pip install python-firebase"
      ],
      "execution_count": 0,
      "outputs": []
    },
    {
      "cell_type": "code",
      "metadata": {
        "id": "cdg0L_cYqwaR",
        "colab_type": "code",
        "colab": {}
      },
      "source": [
        "# !python interact.py"
      ],
      "execution_count": 0,
      "outputs": []
    },
    {
      "cell_type": "code",
      "metadata": {
        "id": "f3y2jYsVr7fX",
        "colab_type": "code",
        "outputId": "30b8a1c8-51cb-46d0-acc9-f27e18ea8b90",
        "colab": {
          "base_uri": "https://localhost:8080/",
          "height": 256
        }
      },
      "source": [
        "import time\n",
        "import argparse\n",
        "import torch\n",
        "import msgpack\n",
        "from drqa.model import DocReaderModel\n",
        "from drqa.utils import str2bool\n",
        "from prepro import annotate, to_id, init\n",
        "from train import BatchGen\n",
        "\n",
        "\n",
        "\n",
        "model = 'models/best_model.pt'\n",
        "cuda = torch.cuda.is_available()\n",
        "\n",
        "if cuda:\n",
        "    checkpoint = torch.load(model)\n",
        "else:\n",
        "    checkpoint = torch.load(model, map_location=lambda storage, loc: storage)\n",
        "\n",
        "state_dict = checkpoint['state_dict']\n",
        "opt = checkpoint['config']\n",
        "with open('SQuAD/meta.msgpack', 'rb') as f:\n",
        "    meta = msgpack.load(f, encoding='utf8')\n",
        "    \n",
        "embedding = torch.Tensor(meta['embedding'])\n",
        "\n",
        "\n",
        "\n",
        "opt['pretrained_words'] = True\n",
        "opt['vocab_size'] = embedding.size(0)\n",
        "opt['embedding_dim'] = embedding.size(1)\n",
        "opt['pos_size'] = len(meta['vocab_tag'])\n",
        "opt['ner_size'] = len(meta['vocab_ent'])\n",
        "opt['cuda'] = cuda\n",
        "BatchGen.pos_size = opt['pos_size']\n",
        "BatchGen.ner_size = opt['ner_size']\n",
        "model = DocReaderModel(opt, embedding, state_dict)\n",
        "w2id = {w: i for i, w in enumerate(meta['vocab'])}\n",
        "tag2id = {w: i for i, w in enumerate(meta['vocab_tag'])}\n",
        "ent2id = {w: i for i, w in enumerate(meta['vocab_ent'])}\n",
        "init()\n",
        "\n",
        "def get_answer(evidence , question):\n",
        "    if question == 'question_read':\n",
        "        pass\n",
        "    print(question)\n",
        "    id_ = 0\n",
        "    # try:\n",
        "    #     while True:\n",
        "    #         evidence = input('Evidence: ')\n",
        "    #         if evidence.strip():\n",
        "    #             break\n",
        "    #     while True:\n",
        "    #         question = input('Question: ')\n",
        "    #         if question.strip():\n",
        "    #             break\n",
        "    # except EOFError:\n",
        "    #     print()\n",
        "#         break\n",
        "    id_ += 1\n",
        "#     start_time = time.time()\n",
        "    annotated = annotate(('interact-{}'.format(id_), evidence, question), meta['wv_cased'])\n",
        "    model_in = to_id(annotated, w2id, tag2id, ent2id)\n",
        "    model_in = next(iter(BatchGen([model_in], batch_size=1, gpu=cuda, evaluation=True)))\n",
        "    prediction = model.predict(model_in)[0]\n",
        "#     end_time = time.time()\n",
        "#     print('Answer: {}'.format(prediction))\n",
        "#     print('Time: {:.4f}s'.format(end_time - start_time))\n",
        "    \n",
        "    return prediction\n",
        "\n",
        "from firebase import firebase\n",
        "firebaseref = firebase.FirebaseApplication('https://buticku16.firebaseio.com/')\n",
        "    \n",
        "    \n",
        "while 1:\n",
        "    question = firebaseref.get('/question',None)\n",
        "\n",
        "    if question == 'question_read':\n",
        "        continue\n",
        "    if question == 'break':\n",
        "        break\n",
        "    else:\n",
        "        content = firebaseref.get('/text',None)\n",
        "        firebaseref.put('/','answer',get_answer(content , question))\n",
        "        firebaseref.put('/','question','question_read')"
      ],
      "execution_count": 0,
      "outputs": [
        {
          "output_type": "stream",
          "text": [
            "can i buy this one?\n",
            "can i buy this one?\n",
            "tell me about camera\n",
            "what about camera\n",
            "is this positive?\n",
            "is this awsome?\n",
            "can i drop it from mars??\n",
            "ok good going to buy this product\n",
            "thank you\n",
            "is this worthy product?\n",
            "tell me more about camera?\n",
            "what about camera\n",
            "thank you\n"
          ],
          "name": "stdout"
        }
      ]
    },
    {
      "cell_type": "code",
      "metadata": {
        "id": "mnvJF3Tps_JA",
        "colab_type": "code",
        "colab": {}
      },
      "source": [
        ""
      ],
      "execution_count": 0,
      "outputs": []
    },
    {
      "cell_type": "code",
      "metadata": {
        "id": "xS8cGmkidpqA",
        "colab_type": "code",
        "colab": {}
      },
      "source": [
        ""
      ],
      "execution_count": 0,
      "outputs": []
    },
    {
      "cell_type": "code",
      "metadata": {
        "id": "4AlFcnYNdqEN",
        "colab_type": "code",
        "colab": {}
      },
      "source": [
        ""
      ],
      "execution_count": 0,
      "outputs": []
    },
    {
      "cell_type": "code",
      "metadata": {
        "id": "UMUO5gUNdqmT",
        "colab_type": "code",
        "colab": {}
      },
      "source": [
        ""
      ],
      "execution_count": 0,
      "outputs": []
    },
    {
      "cell_type": "code",
      "metadata": {
        "id": "azvE-cuIdrK8",
        "colab_type": "code",
        "colab": {}
      },
      "source": [
        ""
      ],
      "execution_count": 0,
      "outputs": []
    },
    {
      "cell_type": "code",
      "metadata": {
        "id": "tG-iGMCLdr1D",
        "colab_type": "code",
        "colab": {}
      },
      "source": [
        ""
      ],
      "execution_count": 0,
      "outputs": []
    },
    {
      "cell_type": "code",
      "metadata": {
        "id": "AcH3DaCedtBp",
        "colab_type": "code",
        "colab": {}
      },
      "source": [
        ""
      ],
      "execution_count": 0,
      "outputs": []
    },
    {
      "cell_type": "code",
      "metadata": {
        "id": "dh_-3b3mdtiI",
        "colab_type": "code",
        "colab": {}
      },
      "source": [
        ""
      ],
      "execution_count": 0,
      "outputs": []
    }
  ]
}